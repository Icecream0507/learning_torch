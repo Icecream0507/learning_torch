{
 "cells": [
  {
   "cell_type": "markdown",
   "metadata": {},
   "source": [
    "## 测试1"
   ]
  },
  {
   "cell_type": "code",
   "execution_count": null,
   "metadata": {},
   "outputs": [],
   "source": [
    "print(\"hello world\")\n",
    "print(2)"
   ]
  },
  {
   "cell_type": "code",
   "execution_count": null,
   "metadata": {},
   "outputs": [],
   "source": [
    "from torch.utils.data import Dataset\n",
    "import numpy as np\n",
    "help(Dataset)\n"
   ]
  },
  {
   "cell_type": "code",
   "execution_count": null,
   "metadata": {},
   "outputs": [],
   "source": [
    "import PIL\n",
    "import PIL.Image\n",
    "dir(PIL.Image)\n"
   ]
  },
  {
   "cell_type": "code",
   "execution_count": null,
   "metadata": {},
   "outputs": [],
   "source": [
    "PIL.__version__"
   ]
  },
  {
   "cell_type": "code",
   "execution_count": null,
   "metadata": {},
   "outputs": [],
   "source": [
    "\n",
    "from PIL import Image\n",
    "image_path = './hymenoptera_data/hymenoptera_data/train/ants/0013035.jpg'\n",
    "img = Image.open(image_path)\n",
    "img.show()\n",
    "img.size\n"
   ]
  },
  {
   "cell_type": "code",
   "execution_count": null,
   "metadata": {},
   "outputs": [],
   "source": [
    "import os\n",
    "class Mydata(Dataset):\n",
    "    def __init__(self, root_dir, lable_dir):\n",
    "        self.root_dir = root_dir\n",
    "        self.lable_dir = lable_dir\n",
    "        self.path = os.path.join(self.root_dir, self.lable_dir)\n",
    "        self.img_list = os.listdir(self.path)\n",
    "\n",
    "    def __getitem__(self, idx):\n",
    "        img_name = self.img_list[idx]\n",
    "        img_item_path = os.path.join(self.root_dir, self.lable_dir, img_name)\n",
    "        img = Image.open(img_item_path)\n",
    "        lable = self.lable_dir\n",
    "        return img, lable\n",
    "    \n",
    "    def __len__(self):\n",
    "        return len(self.img_list)\n",
    "    \n",
    "\n",
    "\n",
    "root_dir = 'D:/Code/Pytorch/train'\n",
    "ant_lable_dir = 'ants_image'\n",
    "ant_dataset = Mydata(root_dir, ant_lable_dir)\n",
    "\n",
    "bee_lable_dir = 'bees_image'\n",
    "bee_dataset = Mydata(root_dir, bee_lable_dir)\n",
    "\n",
    "img_0, lable_0 = ant_dataset[0]\n",
    "img_1, lable_1 = bee_dataset[2]\n",
    "\n",
    "# img_0.show()\n",
    "img_1.show()\n",
    "\n",
    "print(lable_0, len(ant_dataset))\n",
    "print(lable_1, len(bee_dataset))\n"
   ]
  },
  {
   "cell_type": "code",
   "execution_count": null,
   "metadata": {},
   "outputs": [],
   "source": [
    "n_img = np.array(img_0)\n",
    "\n",
    "type(n_img)"
   ]
  },
  {
   "cell_type": "code",
   "execution_count": null,
   "metadata": {},
   "outputs": [],
   "source": [
    "from torchvision import transforms\n",
    "\n",
    "tensor_trans = transforms.ToTensor()\n",
    "\n",
    "img_tensor = tensor_trans(n_img)\n",
    "\n",
    "print(n_img.shape)\n",
    "print(img_tensor.shape)\n"
   ]
  },
  {
   "cell_type": "code",
   "execution_count": 18,
   "metadata": {},
   "outputs": [],
   "source": [
    "from torch.utils.tensorboard import SummaryWriter\n",
    "\n",
    "writer = SummaryWriter('logs')\n",
    "\n",
    "\n",
    "writer.add_image('ant', img_tensor, global_step=2)\n",
    "\n",
    "writer.close()"
   ]
  },
  {
   "cell_type": "code",
   "execution_count": null,
   "metadata": {},
   "outputs": [],
   "source": []
  }
 ],
 "metadata": {
  "kernelspec": {
   "display_name": "pytorch",
   "language": "python",
   "name": "python3"
  },
  "language_info": {
   "codemirror_mode": {
    "name": "ipython",
    "version": 3
   },
   "file_extension": ".py",
   "mimetype": "text/x-python",
   "name": "python",
   "nbconvert_exporter": "python",
   "pygments_lexer": "ipython3",
   "version": "3.12.8"
  }
 },
 "nbformat": 4,
 "nbformat_minor": 2
}
